{
 "cells": [
  {
   "cell_type": "code",
   "execution_count": 1,
   "metadata": {
    "collapsed": true,
    "pycharm": {
     "is_executing": false
    }
   },
   "outputs": [],
   "source": [
    "from sklearn.datasets import load_wine\n",
    "\n",
    "dataset = load_wine()\n",
    "data = dataset['data']\n",
    "labels = dataset['target']\n",
    "attributes = dataset['feature_names']"
   ]
  },
  {
   "cell_type": "code",
   "execution_count": 10,
   "outputs": [
    {
     "name": "stdout",
     "text": [
      "There are 178 records\n",
      "Rows with missing values: []\n",
      "Label 0 contains 59 elements\n",
      "Label 1 contains 71 elements\n",
      "Label 2 contains 48 elements\n"
     ],
     "output_type": "stream"
    }
   ],
   "source": [
    "import numpy as np\n",
    "print(f\"There are {data.shape[0]} records\")\n",
    "\n",
    "mask = np.isnan(data)\n",
    "mask = np.sum(mask, axis=0)\n",
    "print(f\"Rows with missing values: {[i for i, v in enumerate(mask) if v is True]}\")\n",
    "\n",
    "distinct_labels = set(labels)\n",
    "for lab in distinct_labels:\n",
    "    print(f\"Label {lab} contains {len(labels[labels == lab])} elements\")\n",
    "    "
   ],
   "metadata": {
    "collapsed": false,
    "pycharm": {
     "name": "#%%\n",
     "is_executing": false
    }
   }
  },
  {
   "cell_type": "markdown",
   "source": [
    "TRAINING with full dataset"
   ],
   "metadata": {
    "collapsed": false,
    "pycharm": {
     "name": "#%% md\n",
     "is_executing": false
    }
   }
  },
  {
   "cell_type": "code",
   "execution_count": null,
   "outputs": [],
   "source": [
    "from sklearn.tree import DecisionTreeClassifier, export_graphviz\n",
    "\n",
    "classifier = DecisionTreeClassifier()\n",
    "classifier.fit(data, labels)\n",
    "dot_code = export_graphviz(classifier, feature_names=attributes)\n",
    "# Visualize the graph obtained by paste the string in the dot_code variable on http://www.webgraphviz.com/\n",
    "print(dot_code)"
   ],
   "metadata": {
    "collapsed": false,
    "pycharm": {
     "name": "#%%\n"
    }
   }
  },
  {
   "cell_type": "markdown",
   "source": [
    "TEST with full dataset"
   ],
   "metadata": {
    "collapsed": false,
    "pycharm": {
     "name": "#%% md\n",
     "is_executing": false
    }
   }
  },
  {
   "cell_type": "code",
   "execution_count": 16,
   "outputs": [
    {
     "name": "stdout",
     "text": [
      "[0 0 0 0 0 0 0 0 0 0 0 0 0 0 0 0 0 0 0 0 0 0 0 0 0 0 0 0 0 0 0 0 0 0 0 0 0\n",
      " 0 0 0 0 0 0 0 0 0 0 0 0 0 0 0 0 0 0 0 0 0 0 1 1 1 1 1 1 1 1 1 1 1 1 1 1 1\n",
      " 1 1 1 1 1 1 1 1 1 1 1 1 1 1 1 1 1 1 1 1 1 1 1 1 1 1 1 1 1 1 1 1 1 1 1 1 1\n",
      " 1 1 1 1 1 1 1 1 1 1 1 1 1 1 1 1 1 1 1 2 2 2 2 2 2 2 2 2 2 2 2 2 2 2 2 2 2\n",
      " 2 2 2 2 2 2 2 2 2 2 2 2 2 2 2 2 2 2 2 2 2 2 2 2 2 2 2 2 2 2]\n",
      "[0 0 0 0 0 0 0 0 0 0 0 0 0 0 0 0 0 0 0 0 0 0 0 0 0 0 0 0 0 0 0 0 0 0 0 0 0\n",
      " 0 0 0 0 0 0 0 0 0 0 0 0 0 0 0 0 0 0 0 0 0 0 1 1 1 1 1 1 1 1 1 1 1 1 1 1 1\n",
      " 1 1 1 1 1 1 1 1 1 1 1 1 1 1 1 1 1 1 1 1 1 1 1 1 1 1 1 1 1 1 1 1 1 1 1 1 1\n",
      " 1 1 1 1 1 1 1 1 1 1 1 1 1 1 1 1 1 1 1 2 2 2 2 2 2 2 2 2 2 2 2 2 2 2 2 2 2\n",
      " 2 2 2 2 2 2 2 2 2 2 2 2 2 2 2 2 2 2 2 2 2 2 2 2 2 2 2 2 2 2]\n"
     ],
     "output_type": "stream"
    },
    {
     "data": {
      "text/plain": "1.0"
     },
     "metadata": {},
     "output_type": "execute_result",
     "execution_count": 16
    }
   ],
   "source": [
    "from sklearn.metrics import accuracy_score\n",
    "print(labels)\n",
    "labels_predicted = classifier.predict(data)\n",
    "print(labels_predicted)\n",
    "\n",
    "# ACCURACY WILL BE = 1.0 cause we trained and tested the same dataset (training_set = test_set)\n",
    "accuracy_score(labels, labels_predicted)\n"
   ],
   "metadata": {
    "collapsed": false,
    "pycharm": {
     "name": "#%%\n",
     "is_executing": false
    }
   }
  },
  {
   "cell_type": "markdown",
   "source": [
    "TRAINING AND TEST splitting initial dataset"
   ],
   "metadata": {
    "collapsed": false,
    "pycharm": {
     "name": "#%% md\n"
    }
   }
  },
  {
   "cell_type": "code",
   "execution_count": 29,
   "outputs": [
    {
     "name": "stdout",
     "text": [
      "0.9333333333333333\n",
      "              precision    recall  f1-score   support\n",
      "\n",
      "           0       1.00      0.86      0.92        14\n",
      "           1       0.87      1.00      0.93        20\n",
      "           2       1.00      0.91      0.95        11\n",
      "\n",
      "    accuracy                           0.93        45\n",
      "   macro avg       0.96      0.92      0.94        45\n",
      "weighted avg       0.94      0.93      0.93        45\n",
      "\n"
     ],
     "output_type": "stream"
    }
   ],
   "source": [
    "from sklearn.model_selection import train_test_split\n",
    "from sklearn.metrics import classification_report\n",
    "X_train, X_test, y_train, y_test = train_test_split(data, labels)\n",
    "\n",
    "clf = DecisionTreeClassifier()\n",
    "clf.fit(X_train,y_train)\n",
    "y_predicted = clf.predict(X_test)\n",
    "print(accuracy_score(y_test, y_predicted))\n",
    "print(classification_report(y_test, y_predicted))"
   ],
   "metadata": {
    "collapsed": false,
    "pycharm": {
     "name": "#%%\n",
     "is_executing": false
    }
   }
  },
  {
   "cell_type": "markdown",
   "source": [
    "NON DEFAULT CLASSIFIER"
   ],
   "metadata": {
    "collapsed": false,
    "pycharm": {
     "name": "#%% md\n"
    }
   }
  },
  {
   "cell_type": "code",
   "execution_count": 39,
   "outputs": [
    {
     "name": "stdout",
     "text": [
      "{'max_depth': None, 'min_impurity_decrease': 0.0, 'splitter': 'best'}\n",
      "0.9555555555555556 \n",
      "\n",
      "{'max_depth': None, 'min_impurity_decrease': 0.0, 'splitter': 'random'}\n",
      "0.9555555555555556 \n",
      "\n",
      "{'max_depth': None, 'min_impurity_decrease': 0.01, 'splitter': 'best'}\n",
      "0.9111111111111111 \n",
      "\n",
      "{'max_depth': None, 'min_impurity_decrease': 0.01, 'splitter': 'random'}\n",
      "0.9333333333333333 \n",
      "\n",
      "{'max_depth': None, 'min_impurity_decrease': 0.05, 'splitter': 'best'}\n",
      "0.9111111111111111 \n",
      "\n",
      "{'max_depth': None, 'min_impurity_decrease': 0.05, 'splitter': 'random'}\n",
      "0.7555555555555555 \n",
      "\n",
      "{'max_depth': 2, 'min_impurity_decrease': 0.0, 'splitter': 'best'}\n",
      "0.9111111111111111 \n",
      "\n",
      "{'max_depth': 2, 'min_impurity_decrease': 0.0, 'splitter': 'random'}\n",
      "0.8444444444444444 \n",
      "\n",
      "{'max_depth': 2, 'min_impurity_decrease': 0.01, 'splitter': 'best'}\n",
      "0.9111111111111111 \n",
      "\n",
      "{'max_depth': 2, 'min_impurity_decrease': 0.01, 'splitter': 'random'}\n",
      "0.7333333333333333 \n",
      "\n",
      "{'max_depth': 2, 'min_impurity_decrease': 0.05, 'splitter': 'best'}\n",
      "0.9111111111111111 \n",
      "\n",
      "{'max_depth': 2, 'min_impurity_decrease': 0.05, 'splitter': 'random'}\n",
      "0.8888888888888888 \n",
      "\n",
      "{'max_depth': 4, 'min_impurity_decrease': 0.0, 'splitter': 'best'}\n",
      "0.9333333333333333 \n",
      "\n",
      "{'max_depth': 4, 'min_impurity_decrease': 0.0, 'splitter': 'random'}\n",
      "0.9555555555555556 \n",
      "\n",
      "{'max_depth': 4, 'min_impurity_decrease': 0.01, 'splitter': 'best'}\n",
      "0.9777777777777777 \n",
      "\n",
      "{'max_depth': 4, 'min_impurity_decrease': 0.01, 'splitter': 'random'}\n",
      "0.8888888888888888 \n",
      "\n",
      "{'max_depth': 4, 'min_impurity_decrease': 0.05, 'splitter': 'best'}\n",
      "0.9111111111111111 \n",
      "\n",
      "{'max_depth': 4, 'min_impurity_decrease': 0.05, 'splitter': 'random'}\n",
      "0.8444444444444444 \n",
      "\n",
      "{'max_depth': 8, 'min_impurity_decrease': 0.0, 'splitter': 'best'}\n",
      "0.9111111111111111 \n",
      "\n",
      "{'max_depth': 8, 'min_impurity_decrease': 0.0, 'splitter': 'random'}\n",
      "0.9777777777777777 \n",
      "\n",
      "{'max_depth': 8, 'min_impurity_decrease': 0.01, 'splitter': 'best'}\n",
      "0.9777777777777777 \n",
      "\n",
      "{'max_depth': 8, 'min_impurity_decrease': 0.01, 'splitter': 'random'}\n",
      "0.9333333333333333 \n",
      "\n",
      "{'max_depth': 8, 'min_impurity_decrease': 0.05, 'splitter': 'best'}\n",
      "0.9111111111111111 \n",
      "\n",
      "{'max_depth': 8, 'min_impurity_decrease': 0.05, 'splitter': 'random'}\n",
      "0.8666666666666667 \n",
      "\n"
     ],
     "output_type": "stream"
    },
    {
     "data": {
      "text/plain": "0.9777777777777777"
     },
     "metadata": {},
     "output_type": "execute_result",
     "execution_count": 39
    }
   ],
   "source": [
    "from sklearn.model_selection import ParameterGrid\n",
    "params = {\n",
    "\"max_depth\": [None, 2, 4, 8],\n",
    "\"splitter\": [\"best\", \"random\"],\n",
    "\"min_impurity_decrease\": [0.0, 0.01, 0.05]\n",
    "}\n",
    "\n",
    "accuracies = []\n",
    "for config in ParameterGrid(params):\n",
    "    print(config)\n",
    "    clf = DecisionTreeClassifier(**config)\n",
    "    clf.fit(X_train,y_train)\n",
    "    y_predicted = clf.predict(X_test)\n",
    "    acc = accuracy_score(y_test, y_predicted)\n",
    "    accuracies.append(acc)\n",
    "    print(acc, '\\n')\n",
    "\n",
    "max(accuracies)"
   ],
   "metadata": {
    "collapsed": false,
    "pycharm": {
     "name": "#%%\n",
     "is_executing": false
    }
   }
  },
  {
   "cell_type": "markdown",
   "source": [
    "CROSS VALIDATION (K-FOLD)"
   ],
   "metadata": {
    "collapsed": false,
    "pycharm": {
     "name": "#%% md\n"
    }
   }
  },
  {
   "cell_type": "code",
   "execution_count": 52,
   "outputs": [
    {
     "data": {
      "text/plain": "0.9555555555555556"
     },
     "metadata": {},
     "output_type": "execute_result",
     "execution_count": 52
    }
   ],
   "source": [
    "from sklearn.model_selection import KFold\n",
    "# Split the datasets into two:\n",
    "# - X_train_valid: the dataset used for the k-fold cross-validation\n",
    "# - X_test: the dataset used for the final testing (this will NOT\n",
    "# be seen by the classifier during the training/validation phases)\n",
    "X_train_valid, X_test, y_train_valid, y_test = train_test_split(data, labels)\n",
    "kf = KFold(5) # 5-fold cross-validation\n",
    "# X and y are the arrays to be split\n",
    "accuracies = []\n",
    "for config in ParameterGrid(params):\n",
    "    clf_acc = []\n",
    "    count = []\n",
    "    for train_indices, validation_indices in kf.split(X_train_valid):\n",
    "        X_train = X_train_valid[train_indices]\n",
    "        X_valid = X_train_valid[validation_indices]\n",
    "        y_train = y_train_valid[train_indices]\n",
    "        y_valid = y_train_valid[validation_indices]\n",
    "        \n",
    "        #I keep tracks of how many elements have been used in each split\n",
    "        count.append(len(train_indices))\n",
    "        \n",
    "        clf = DecisionTreeClassifier(**config)\n",
    "        clf.fit(X_train, y_train)\n",
    "        acc = accuracy_score(y_valid, clf.predict(X_valid))\n",
    "        clf_acc.append(acc)\n",
    "    accuracies.append(np.average(clf_acc, weights=count))\n",
    "    \n",
    "best_config = list(ParameterGrid(params))[int(np.argmax(accuracies))]\n",
    "clf = DecisionTreeClassifier(**best_config)\n",
    "clf.fit(X_train_valid, y_train_valid)\n",
    "accuracy_score(y_test, clf.predict(X_test))\n",
    "\n"
   ],
   "metadata": {
    "collapsed": false,
    "pycharm": {
     "name": "#%%\n",
     "is_executing": false
    }
   }
  }
 ],
 "metadata": {
  "kernelspec": {
   "display_name": "Python 3",
   "language": "python",
   "name": "python3"
  },
  "language_info": {
   "codemirror_mode": {
    "name": "ipython",
    "version": 2
   },
   "file_extension": ".py",
   "mimetype": "text/x-python",
   "name": "python",
   "nbconvert_exporter": "python",
   "pygments_lexer": "ipython2",
   "version": "2.7.6"
  },
  "pycharm": {
   "stem_cell": {
    "cell_type": "raw",
    "source": [],
    "metadata": {
     "collapsed": false
    }
   }
  }
 },
 "nbformat": 4,
 "nbformat_minor": 0
}